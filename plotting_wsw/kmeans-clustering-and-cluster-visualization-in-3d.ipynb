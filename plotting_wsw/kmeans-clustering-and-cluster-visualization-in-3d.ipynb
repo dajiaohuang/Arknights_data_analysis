{
 "cells": [
  {
   "cell_type": "code",
   "execution_count": 1,
   "metadata": {},
   "outputs": [
    {
     "name": "stdout",
     "output_type": "stream",
     "text": [
      "Requirement already satisfied: plotly in /opt/conda/lib/python3.6/site-packages (4.1.0)\r\n",
      "Requirement already satisfied: retrying>=1.3.3 in /opt/conda/lib/python3.6/site-packages (from plotly) (1.3.3)\r\n",
      "Requirement already satisfied: six in /opt/conda/lib/python3.6/site-packages (from plotly) (1.12.0)\r\n"
     ]
    }
   ],
   "source": [
    "# check if the plotly is installed or not\n",
    "!pip install plotly"
   ]
  },
  {
   "cell_type": "code",
   "execution_count": null,
   "metadata": {
    "_cell_guid": "b1076dfc-b9ad-4769-8c92-a6c4dae69d19",
    "_uuid": "8f2839f25d086af736a60e9eeb907d3b93b6e0e5"
   },
   "outputs": [
    {
     "ename": "",
     "evalue": "",
     "output_type": "error",
     "traceback": [
      "\u001b[1;31mRunning cells with 'Python 3.8.18 ('gym')' requires ipykernel package.\n",
      "\u001b[1;31mRun the following command to install 'ipykernel' into the Python environment. \n",
      "\u001b[1;31mCommand: 'conda install -n gym ipykernel --update-deps --force-reinstall'"
     ]
    }
   ],
   "source": [
    "# import the libraries\n",
    "import numpy as np\n",
    "import pandas as pd \n",
    "from sklearn.cluster import KMeans\n",
    "import matplotlib.pyplot as plt\n",
    "import seaborn as sns\n",
    "from mpl_toolkits.mplot3d import Axes3D\n",
    "import plotly.graph_objs as go\n",
    "from plotly import tools\n",
    "from plotly.subplots import make_subplots\n",
    "import plotly.offline as py"
   ]
  },
  {
   "cell_type": "code",
   "execution_count": 9,
   "metadata": {
    "_cell_guid": "79c7e3d0-c299-4dcb-8224-4455121ee9b0",
    "_uuid": "d629ff2d2480ee46fbb7e2d37f6b5fab8052498a"
   },
   "outputs": [
    {
     "data": {
      "text/plain": [
       "<bound method NDFrame.head of       hp1  attack1  defence1\n",
       "0     911      212       154\n",
       "1     975      250       173\n",
       "2     892      218       148\n",
       "3     771      243       169\n",
       "4     864      216       157\n",
       "..    ...      ...       ...\n",
       "289   396      137        32\n",
       "290   414      220        40\n",
       "291   261       42        16\n",
       "292   308       81        22\n",
       "293  1154      208       354\n",
       "\n",
       "[294 rows x 3 columns]>"
      ]
     },
     "execution_count": 9,
     "metadata": {},
     "output_type": "execute_result"
    }
   ],
   "source": [
    "# load the cutomer data\n",
    "df = pd.read_csv('ArkModified2.csv')\n",
    "data = df.loc[:, ['hp1', 'attack1', 'defence1']]\n",
    "data.head\n"
   ]
  },
  {
   "cell_type": "code",
   "execution_count": 4,
   "metadata": {},
   "outputs": [
    {
     "name": "stdout",
     "output_type": "stream",
     "text": [
      "<class 'pandas.core.frame.DataFrame'>\n",
      "RangeIndex: 294 entries, 0 to 293\n",
      "Data columns (total 48 columns):\n",
      " #   Column      Non-Null Count  Dtype  \n",
      "---  ------      --------------  -----  \n",
      " 0   Unnamed: 0  294 non-null    int64  \n",
      " 1   代号          294 non-null    object \n",
      " 2   英文代号        289 non-null    object \n",
      " 3   本名          134 non-null    object \n",
      " 4   别号          230 non-null    object \n",
      " 5   性别          288 non-null    object \n",
      " 6   发色          282 non-null    object \n",
      " 7   瞳色          281 non-null    object \n",
      " 8   身高          294 non-null    int64  \n",
      " 9   生日          282 non-null    object \n",
      " 10  种族          290 non-null    object \n",
      " 11  职业          292 non-null    object \n",
      " 12  职能          82 non-null     object \n",
      " 13  专精          272 non-null    object \n",
      " 14  萌点          278 non-null    object \n",
      " 15  出身地区        287 non-null    object \n",
      " 16  所属团体        135 non-null    object \n",
      " 17  个人状态        42 non-null     object \n",
      " 18  角色EP        124 non-null    object \n",
      " 19  画师          294 non-null    object \n",
      " 20  生命上限        294 non-null    object \n",
      " 21  攻击          294 non-null    object \n",
      " 22  防御          294 non-null    object \n",
      " 23  法术抗性        294 non-null    object \n",
      " 24  再部署         294 non-null    float64\n",
      " 25  部署费用        294 non-null    object \n",
      " 26  阻挡数         294 non-null    object \n",
      " 27  攻击速度        294 non-null    float64\n",
      " 28  职业细分        12 non-null     object \n",
      " 29  活动范围        42 non-null     object \n",
      " 30  位置          24 non-null     object \n",
      " 31  体重          7 non-null      object \n",
      " 32  年龄          3 non-null      object \n",
      " 33  出生地区        1 non-null      object \n",
      " 34  干员编号        4 non-null      object \n",
      " 35  所属团队        2 non-null      object \n",
      " 36  三围          1 non-null      object \n",
      " 37  角色歌         1 non-null      object \n",
      " 38  出厂日         4 non-null      object \n",
      " 39  产地          4 non-null      object \n",
      " 40  重量          2 non-null      object \n",
      " 41  设定性别        1 non-null      object \n",
      " 42  hp1         294 non-null    int64  \n",
      " 43  hp2         294 non-null    int64  \n",
      " 44  attack1     294 non-null    int64  \n",
      " 45  attack2     294 non-null    int64  \n",
      " 46  defence1    294 non-null    int64  \n",
      " 47  defence2    294 non-null    int64  \n",
      "dtypes: float64(2), int64(8), object(38)\n",
      "memory usage: 110.4+ KB\n"
     ]
    }
   ],
   "source": [
    "df.info()"
   ]
  },
  {
   "cell_type": "code",
   "execution_count": 10,
   "metadata": {},
   "outputs": [
    {
     "data": {
      "text/plain": [
       "array([[212, 154],\n",
       "       [250, 173],\n",
       "       [218, 148],\n",
       "       [243, 169],\n",
       "       [216, 157],\n",
       "       [195,  54],\n",
       "       [256, 106],\n",
       "       [210,  40],\n",
       "       [249, 154],\n",
       "       [340, 160],\n",
       "       [308, 156],\n",
       "       [452, 116],\n",
       "       [297, 189],\n",
       "       [296, 191],\n",
       "       [288, 186],\n",
       "       [242, 154],\n",
       "       [302, 213],\n",
       "       [473, 130],\n",
       "       [249, 151],\n",
       "       [309, 165],\n",
       "       [161, 239],\n",
       "       [242, 156],\n",
       "       [299, 191],\n",
       "       [298, 224],\n",
       "       [357,  86],\n",
       "       [183,  57],\n",
       "       [397,  68],\n",
       "       [492,  60],\n",
       "       [341, 123],\n",
       "       [178,  61],\n",
       "       [181,  60],\n",
       "       [351, 110],\n",
       "       [535,  79],\n",
       "       [375,  80],\n",
       "       [373,  73],\n",
       "       [498,  54],\n",
       "       [295, 254],\n",
       "       [200, 248],\n",
       "       [221, 257],\n",
       "       [462, 247],\n",
       "       [297, 262],\n",
       "       [370, 229],\n",
       "       [483, 223],\n",
       "       [368, 234],\n",
       "       [269, 258],\n",
       "       [180,  60],\n",
       "       [132,  80],\n",
       "       [167,  94],\n",
       "       [189,  48],\n",
       "       [192,  36],\n",
       "       [148,  47],\n",
       "       [228,  53],\n",
       "       [211,  60],\n",
       "       [220,  57],\n",
       "       [145,  93],\n",
       "       [205,  61],\n",
       "       [212,  59],\n",
       "       [236, 190],\n",
       "       [185,  73],\n",
       "       [292,  46],\n",
       "       [387,  52],\n",
       "       [377,  52],\n",
       "       [302,  48],\n",
       "       [426,  50],\n",
       "       [311,  49],\n",
       "       [435, 146],\n",
       "       [153,  50],\n",
       "       [611,  51],\n",
       "       [421, 158],\n",
       "       [287,  49],\n",
       "       [247,  58],\n",
       "       [215, 144],\n",
       "       [295, 163],\n",
       "       [344, 144],\n",
       "       [372, 155],\n",
       "       [376, 240],\n",
       "       [335, 133],\n",
       "       [263,  70],\n",
       "       [219, 144],\n",
       "       [218, 143],\n",
       "       [386, 235],\n",
       "       [202, 139],\n",
       "       [235, 166],\n",
       "       [183, 147],\n",
       "       [240, 164],\n",
       "       [237, 154],\n",
       "       [212, 138],\n",
       "       [238, 168],\n",
       "       [187,  46],\n",
       "       [236,  94],\n",
       "       [239,  85],\n",
       "       [177, 151],\n",
       "       [284, 135],\n",
       "       [308, 155],\n",
       "       [416, 105],\n",
       "       [285, 173],\n",
       "       [289, 193],\n",
       "       [283, 177],\n",
       "       [408,  86],\n",
       "       [218, 151],\n",
       "       [293, 150],\n",
       "       [245, 146],\n",
       "       [266, 166],\n",
       "       [279, 178],\n",
       "       [224, 144],\n",
       "       [283, 197],\n",
       "       [253, 135],\n",
       "       [325, 157],\n",
       "       [137, 238],\n",
       "       [297, 215],\n",
       "       [306, 216],\n",
       "       [236, 134],\n",
       "       [642,   0],\n",
       "       [403, 107],\n",
       "       [324, 169],\n",
       "       [286, 197],\n",
       "       [171,  58],\n",
       "       [173,  53],\n",
       "       [178,  45],\n",
       "       [332,  81],\n",
       "       [486,  63],\n",
       "       [327, 100],\n",
       "       [377,  59],\n",
       "       [363,  63],\n",
       "       [479,  62],\n",
       "       [178,  56],\n",
       "       [314, 103],\n",
       "       [427,  60],\n",
       "       [169,  61],\n",
       "       [428,  60],\n",
       "       [311, 120],\n",
       "       [462,  75],\n",
       "       [364,  59],\n",
       "       [337,  79],\n",
       "       [177,  63],\n",
       "       [476, 105],\n",
       "       [198, 245],\n",
       "       [182, 244],\n",
       "       [344, 222],\n",
       "       [201, 249],\n",
       "       [219, 256],\n",
       "       [191, 240],\n",
       "       [265, 223],\n",
       "       [230, 243],\n",
       "       [199, 253],\n",
       "       [446, 194],\n",
       "       [413, 257],\n",
       "       [286, 221],\n",
       "       [262, 231],\n",
       "       [456, 205],\n",
       "       [460, 252],\n",
       "       [122,  71],\n",
       "       [166,  62],\n",
       "       [172,  55],\n",
       "       [125,  72],\n",
       "       [164,  55],\n",
       "       [163,  58],\n",
       "       [172,  52],\n",
       "       [167,  59],\n",
       "       [136,  43],\n",
       "       [131,  46],\n",
       "       [178,  47],\n",
       "       [153,  74],\n",
       "       [193,  46],\n",
       "       [213,  45],\n",
       "       [133,  95],\n",
       "       [199,  56],\n",
       "       [218,  46],\n",
       "       [184,  48],\n",
       "       [194,  67],\n",
       "       [173,  81],\n",
       "       [200,  83],\n",
       "       [209,  80],\n",
       "       [126, 107],\n",
       "       [238, 193],\n",
       "       [216,  46],\n",
       "       [202,  46],\n",
       "       [282, 170],\n",
       "       [364,  48],\n",
       "       [281,  45],\n",
       "       [295,  47],\n",
       "       [286,  47],\n",
       "       [271,  45],\n",
       "       [359,  47],\n",
       "       [378, 131],\n",
       "       [377, 125],\n",
       "       [548,  48],\n",
       "       [370,  46],\n",
       "       [343,  45],\n",
       "       [135,  48],\n",
       "       [143,  49],\n",
       "       [293,  48],\n",
       "       [148,  47],\n",
       "       [283,  45],\n",
       "       [543,  48],\n",
       "       [357,  49],\n",
       "       [204, 135],\n",
       "       [207, 137],\n",
       "       [378, 141],\n",
       "       [279, 158],\n",
       "       [320, 155],\n",
       "       [329, 148],\n",
       "       [232,  68],\n",
       "       [202, 140],\n",
       "       [346, 204],\n",
       "       [240,  64],\n",
       "       [309, 130],\n",
       "       [372, 141],\n",
       "       [285, 158],\n",
       "       [313, 131],\n",
       "       [233,  53],\n",
       "       [299, 179],\n",
       "       [248, 152],\n",
       "       [185, 136],\n",
       "       [231, 138],\n",
       "       [170, 137],\n",
       "       [171,  43],\n",
       "       [278, 133],\n",
       "       [396,  70],\n",
       "       [264, 178],\n",
       "       [211, 131],\n",
       "       [273, 158],\n",
       "       [272, 154],\n",
       "       [309, 150],\n",
       "       [402,  74],\n",
       "       [233, 142],\n",
       "       [263, 162],\n",
       "       [218, 129],\n",
       "       [287, 154],\n",
       "       [620,   0],\n",
       "       [275, 194],\n",
       "       [437,  60],\n",
       "       [347,  51],\n",
       "       [166,  57],\n",
       "       [163,  54],\n",
       "       [159,  58],\n",
       "       [186,  36],\n",
       "       [313,  79],\n",
       "       [303,  90],\n",
       "       [439,  51],\n",
       "       [179, 234],\n",
       "       [244, 220],\n",
       "       [198, 241],\n",
       "       [193, 249],\n",
       "       [195, 232],\n",
       "       [117,  69],\n",
       "       [159,  66],\n",
       "       [161,  57],\n",
       "       [173,  53],\n",
       "       [159,  51],\n",
       "       [136,  44],\n",
       "       [202,  46],\n",
       "       [181,  53],\n",
       "       [208,  43],\n",
       "       [226, 188],\n",
       "       [324,  52],\n",
       "       [253,  42],\n",
       "       [332,  47],\n",
       "       [145,  47],\n",
       "       [486,  44],\n",
       "       [241,  39],\n",
       "       [252, 151],\n",
       "       [313, 142],\n",
       "       [176, 151],\n",
       "       [346, 139],\n",
       "       [321, 195],\n",
       "       [157, 130],\n",
       "       [229, 148],\n",
       "       [168, 128],\n",
       "       [396,  83],\n",
       "       [263, 126],\n",
       "       [252, 162],\n",
       "       [150,  55],\n",
       "       [154,  52],\n",
       "       [340,  51],\n",
       "       [165, 225],\n",
       "       [190, 229],\n",
       "       [184, 242],\n",
       "       [156,  60],\n",
       "       [153,  61],\n",
       "       [192,  44],\n",
       "       [249,  38],\n",
       "       [321,  60],\n",
       "       [150, 134],\n",
       "       [161,  46],\n",
       "       [180, 220],\n",
       "       [302,  31],\n",
       "       [224,  36],\n",
       "       [247,  63],\n",
       "       [137,  32],\n",
       "       [220,  40],\n",
       "       [ 42,  16],\n",
       "       [ 81,  22],\n",
       "       [208, 354]], dtype=int64)"
      ]
     },
     "execution_count": 10,
     "metadata": {},
     "output_type": "execute_result"
    }
   ],
   "source": [
    "# creating a two dimentional matrix \n",
    "x = data.iloc[:,[1,2]].values\n",
    "x"
   ]
  },
  {
   "cell_type": "code",
   "execution_count": 12,
   "metadata": {},
   "outputs": [
    {
     "ename": "OSError",
     "evalue": "[WinError -1066598274] Windows Error 0xc06d007e",
     "output_type": "error",
     "traceback": [
      "\u001b[1;31m---------------------------------------------------------------------------\u001b[0m",
      "\u001b[1;31mOSError\u001b[0m                                   Traceback (most recent call last)",
      "Cell \u001b[1;32mIn[12], line 6\u001b[0m\n\u001b[0;32m      4\u001b[0m \u001b[39mfor\u001b[39;00m i \u001b[39min\u001b[39;00m \u001b[39mrange\u001b[39m(\u001b[39m1\u001b[39m,\u001b[39m11\u001b[39m):\n\u001b[0;32m      5\u001b[0m     model \u001b[39m=\u001b[39m KMeans(n_clusters \u001b[39m=\u001b[39m i,init \u001b[39m=\u001b[39m \u001b[39m'\u001b[39m\u001b[39mk-means++\u001b[39m\u001b[39m'\u001b[39m,n_init\u001b[39m=\u001b[39m\u001b[39m'\u001b[39m\u001b[39mauto\u001b[39m\u001b[39m'\u001b[39m)\n\u001b[1;32m----> 6\u001b[0m     model\u001b[39m.\u001b[39mfit(x)\n\u001b[0;32m      7\u001b[0m     WCSS\u001b[39m.\u001b[39mappend(model\u001b[39m.\u001b[39minertia_)\n\u001b[0;32m      8\u001b[0m fig \u001b[39m=\u001b[39m plt\u001b[39m.\u001b[39mfigure(figsize \u001b[39m=\u001b[39m (\u001b[39m7\u001b[39m,\u001b[39m7\u001b[39m))\n",
      "File \u001b[1;32mf:\\anaconda3\\Lib\\site-packages\\sklearn\\base.py:1151\u001b[0m, in \u001b[0;36m_fit_context.<locals>.decorator.<locals>.wrapper\u001b[1;34m(estimator, *args, **kwargs)\u001b[0m\n\u001b[0;32m   1144\u001b[0m     estimator\u001b[39m.\u001b[39m_validate_params()\n\u001b[0;32m   1146\u001b[0m \u001b[39mwith\u001b[39;00m config_context(\n\u001b[0;32m   1147\u001b[0m     skip_parameter_validation\u001b[39m=\u001b[39m(\n\u001b[0;32m   1148\u001b[0m         prefer_skip_nested_validation \u001b[39mor\u001b[39;00m global_skip_validation\n\u001b[0;32m   1149\u001b[0m     )\n\u001b[0;32m   1150\u001b[0m ):\n\u001b[1;32m-> 1151\u001b[0m     \u001b[39mreturn\u001b[39;00m fit_method(estimator, \u001b[39m*\u001b[39margs, \u001b[39m*\u001b[39m\u001b[39m*\u001b[39mkwargs)\n",
      "File \u001b[1;32mf:\\anaconda3\\Lib\\site-packages\\sklearn\\cluster\\_kmeans.py:1509\u001b[0m, in \u001b[0;36mKMeans.fit\u001b[1;34m(self, X, y, sample_weight)\u001b[0m\n\u001b[0;32m   1507\u001b[0m \u001b[39melse\u001b[39;00m:\n\u001b[0;32m   1508\u001b[0m     kmeans_single \u001b[39m=\u001b[39m _kmeans_single_lloyd\n\u001b[1;32m-> 1509\u001b[0m     \u001b[39mself\u001b[39m\u001b[39m.\u001b[39m_check_mkl_vcomp(X, X\u001b[39m.\u001b[39mshape[\u001b[39m0\u001b[39m])\n\u001b[0;32m   1511\u001b[0m best_inertia, best_labels \u001b[39m=\u001b[39m \u001b[39mNone\u001b[39;00m, \u001b[39mNone\u001b[39;00m\n\u001b[0;32m   1513\u001b[0m \u001b[39mfor\u001b[39;00m i \u001b[39min\u001b[39;00m \u001b[39mrange\u001b[39m(\u001b[39mself\u001b[39m\u001b[39m.\u001b[39m_n_init):\n\u001b[0;32m   1514\u001b[0m     \u001b[39m# Initialize centers\u001b[39;00m\n",
      "File \u001b[1;32mf:\\anaconda3\\Lib\\site-packages\\sklearn\\cluster\\_kmeans.py:927\u001b[0m, in \u001b[0;36m_BaseKMeans._check_mkl_vcomp\u001b[1;34m(self, X, n_samples)\u001b[0m\n\u001b[0;32m    925\u001b[0m n_active_threads \u001b[39m=\u001b[39m \u001b[39mint\u001b[39m(np\u001b[39m.\u001b[39mceil(n_samples \u001b[39m/\u001b[39m CHUNK_SIZE))\n\u001b[0;32m    926\u001b[0m \u001b[39mif\u001b[39;00m n_active_threads \u001b[39m<\u001b[39m \u001b[39mself\u001b[39m\u001b[39m.\u001b[39m_n_threads:\n\u001b[1;32m--> 927\u001b[0m     modules \u001b[39m=\u001b[39m threadpool_info()\n\u001b[0;32m    928\u001b[0m     has_vcomp \u001b[39m=\u001b[39m \u001b[39m\"\u001b[39m\u001b[39mvcomp\u001b[39m\u001b[39m\"\u001b[39m \u001b[39min\u001b[39;00m [module[\u001b[39m\"\u001b[39m\u001b[39mprefix\u001b[39m\u001b[39m\"\u001b[39m] \u001b[39mfor\u001b[39;00m module \u001b[39min\u001b[39;00m modules]\n\u001b[0;32m    929\u001b[0m     has_mkl \u001b[39m=\u001b[39m (\u001b[39m\"\u001b[39m\u001b[39mmkl\u001b[39m\u001b[39m\"\u001b[39m, \u001b[39m\"\u001b[39m\u001b[39mintel\u001b[39m\u001b[39m\"\u001b[39m) \u001b[39min\u001b[39;00m [\n\u001b[0;32m    930\u001b[0m         (module[\u001b[39m\"\u001b[39m\u001b[39minternal_api\u001b[39m\u001b[39m\"\u001b[39m], module\u001b[39m.\u001b[39mget(\u001b[39m\"\u001b[39m\u001b[39mthreading_layer\u001b[39m\u001b[39m\"\u001b[39m, \u001b[39mNone\u001b[39;00m))\n\u001b[0;32m    931\u001b[0m         \u001b[39mfor\u001b[39;00m module \u001b[39min\u001b[39;00m modules\n\u001b[0;32m    932\u001b[0m     ]\n",
      "File \u001b[1;32mf:\\anaconda3\\Lib\\site-packages\\sklearn\\utils\\fixes.py:83\u001b[0m, in \u001b[0;36mthreadpool_info\u001b[1;34m()\u001b[0m\n\u001b[0;32m     81\u001b[0m     \u001b[39mreturn\u001b[39;00m controller\u001b[39m.\u001b[39minfo()\n\u001b[0;32m     82\u001b[0m \u001b[39melse\u001b[39;00m:\n\u001b[1;32m---> 83\u001b[0m     \u001b[39mreturn\u001b[39;00m threadpoolctl\u001b[39m.\u001b[39mthreadpool_info()\n",
      "File \u001b[1;32mf:\\anaconda3\\Lib\\site-packages\\threadpoolctl.py:124\u001b[0m, in \u001b[0;36mthreadpool_info\u001b[1;34m()\u001b[0m\n\u001b[0;32m    107\u001b[0m \u001b[39m@_format_docstring\u001b[39m(USER_APIS\u001b[39m=\u001b[39m\u001b[39mlist\u001b[39m(_ALL_USER_APIS),\n\u001b[0;32m    108\u001b[0m                    INTERNAL_APIS\u001b[39m=\u001b[39m_ALL_INTERNAL_APIS)\n\u001b[0;32m    109\u001b[0m \u001b[39mdef\u001b[39;00m \u001b[39mthreadpool_info\u001b[39m():\n\u001b[0;32m    110\u001b[0m \u001b[39m    \u001b[39m\u001b[39m\"\"\"Return the maximal number of threads for each detected library.\u001b[39;00m\n\u001b[0;32m    111\u001b[0m \n\u001b[0;32m    112\u001b[0m \u001b[39m    Return a list with all the supported modules that have been found. Each\u001b[39;00m\n\u001b[1;32m   (...)\u001b[0m\n\u001b[0;32m    122\u001b[0m \u001b[39m    In addition, each module may contain internal_api specific entries.\u001b[39;00m\n\u001b[0;32m    123\u001b[0m \u001b[39m    \"\"\"\u001b[39;00m\n\u001b[1;32m--> 124\u001b[0m     \u001b[39mreturn\u001b[39;00m _ThreadpoolInfo(user_api\u001b[39m=\u001b[39m_ALL_USER_APIS)\u001b[39m.\u001b[39mtodicts()\n",
      "File \u001b[1;32mf:\\anaconda3\\Lib\\site-packages\\threadpoolctl.py:340\u001b[0m, in \u001b[0;36m_ThreadpoolInfo.__init__\u001b[1;34m(self, user_api, prefixes, modules)\u001b[0m\n\u001b[0;32m    337\u001b[0m     \u001b[39mself\u001b[39m\u001b[39m.\u001b[39muser_api \u001b[39m=\u001b[39m [] \u001b[39mif\u001b[39;00m user_api \u001b[39mis\u001b[39;00m \u001b[39mNone\u001b[39;00m \u001b[39melse\u001b[39;00m user_api\n\u001b[0;32m    339\u001b[0m     \u001b[39mself\u001b[39m\u001b[39m.\u001b[39mmodules \u001b[39m=\u001b[39m []\n\u001b[1;32m--> 340\u001b[0m     \u001b[39mself\u001b[39m\u001b[39m.\u001b[39m_load_modules()\n\u001b[0;32m    341\u001b[0m     \u001b[39mself\u001b[39m\u001b[39m.\u001b[39m_warn_if_incompatible_openmp()\n\u001b[0;32m    342\u001b[0m \u001b[39melse\u001b[39;00m:\n",
      "File \u001b[1;32mf:\\anaconda3\\Lib\\site-packages\\threadpoolctl.py:373\u001b[0m, in \u001b[0;36m_ThreadpoolInfo._load_modules\u001b[1;34m(self)\u001b[0m\n\u001b[0;32m    371\u001b[0m     \u001b[39mself\u001b[39m\u001b[39m.\u001b[39m_find_modules_with_dyld()\n\u001b[0;32m    372\u001b[0m \u001b[39melif\u001b[39;00m sys\u001b[39m.\u001b[39mplatform \u001b[39m==\u001b[39m \u001b[39m\"\u001b[39m\u001b[39mwin32\u001b[39m\u001b[39m\"\u001b[39m:\n\u001b[1;32m--> 373\u001b[0m     \u001b[39mself\u001b[39m\u001b[39m.\u001b[39m_find_modules_with_enum_process_module_ex()\n\u001b[0;32m    374\u001b[0m \u001b[39melse\u001b[39;00m:\n\u001b[0;32m    375\u001b[0m     \u001b[39mself\u001b[39m\u001b[39m.\u001b[39m_find_modules_with_dl_iterate_phdr()\n",
      "File \u001b[1;32mf:\\anaconda3\\Lib\\site-packages\\threadpoolctl.py:485\u001b[0m, in \u001b[0;36m_ThreadpoolInfo._find_modules_with_enum_process_module_ex\u001b[1;34m(self)\u001b[0m\n\u001b[0;32m    482\u001b[0m         filepath \u001b[39m=\u001b[39m buf\u001b[39m.\u001b[39mvalue\n\u001b[0;32m    484\u001b[0m         \u001b[39m# Store the module if it is supported and selected\u001b[39;00m\n\u001b[1;32m--> 485\u001b[0m         \u001b[39mself\u001b[39m\u001b[39m.\u001b[39m_make_module_from_path(filepath)\n\u001b[0;32m    486\u001b[0m \u001b[39mfinally\u001b[39;00m:\n\u001b[0;32m    487\u001b[0m     kernel_32\u001b[39m.\u001b[39mCloseHandle(h_process)\n",
      "File \u001b[1;32mf:\\anaconda3\\Lib\\site-packages\\threadpoolctl.py:515\u001b[0m, in \u001b[0;36m_ThreadpoolInfo._make_module_from_path\u001b[1;34m(self, filepath)\u001b[0m\n\u001b[0;32m    513\u001b[0m \u001b[39mif\u001b[39;00m prefix \u001b[39min\u001b[39;00m \u001b[39mself\u001b[39m\u001b[39m.\u001b[39mprefixes \u001b[39mor\u001b[39;00m user_api \u001b[39min\u001b[39;00m \u001b[39mself\u001b[39m\u001b[39m.\u001b[39muser_api:\n\u001b[0;32m    514\u001b[0m     module_class \u001b[39m=\u001b[39m \u001b[39mglobals\u001b[39m()[module_class]\n\u001b[1;32m--> 515\u001b[0m     module \u001b[39m=\u001b[39m module_class(filepath, prefix, user_api, internal_api)\n\u001b[0;32m    516\u001b[0m     \u001b[39mself\u001b[39m\u001b[39m.\u001b[39mmodules\u001b[39m.\u001b[39mappend(module)\n",
      "File \u001b[1;32mf:\\anaconda3\\Lib\\site-packages\\threadpoolctl.py:607\u001b[0m, in \u001b[0;36m_Module.__init__\u001b[1;34m(self, filepath, prefix, user_api, internal_api)\u001b[0m\n\u001b[0;32m    605\u001b[0m \u001b[39mself\u001b[39m\u001b[39m.\u001b[39m_dynlib \u001b[39m=\u001b[39m ctypes\u001b[39m.\u001b[39mCDLL(filepath, mode\u001b[39m=\u001b[39m_RTLD_NOLOAD)\n\u001b[0;32m    606\u001b[0m \u001b[39mself\u001b[39m\u001b[39m.\u001b[39mversion \u001b[39m=\u001b[39m \u001b[39mself\u001b[39m\u001b[39m.\u001b[39mget_version()\n\u001b[1;32m--> 607\u001b[0m \u001b[39mself\u001b[39m\u001b[39m.\u001b[39mnum_threads \u001b[39m=\u001b[39m \u001b[39mself\u001b[39m\u001b[39m.\u001b[39mget_num_threads()\n\u001b[0;32m    608\u001b[0m \u001b[39mself\u001b[39m\u001b[39m.\u001b[39m_get_extra_info()\n",
      "File \u001b[1;32mf:\\anaconda3\\Lib\\site-packages\\threadpoolctl.py:746\u001b[0m, in \u001b[0;36m_MKLModule.get_num_threads\u001b[1;34m(self)\u001b[0m\n\u001b[0;32m    744\u001b[0m \u001b[39mdef\u001b[39;00m \u001b[39mget_num_threads\u001b[39m(\u001b[39mself\u001b[39m):\n\u001b[0;32m    745\u001b[0m     get_func \u001b[39m=\u001b[39m \u001b[39mgetattr\u001b[39m(\u001b[39mself\u001b[39m\u001b[39m.\u001b[39m_dynlib, \u001b[39m\"\u001b[39m\u001b[39mMKL_Get_Max_Threads\u001b[39m\u001b[39m\"\u001b[39m, \u001b[39mlambda\u001b[39;00m: \u001b[39mNone\u001b[39;00m)\n\u001b[1;32m--> 746\u001b[0m     \u001b[39mreturn\u001b[39;00m get_func()\n",
      "\u001b[1;31mOSError\u001b[0m: [WinError -1066598274] Windows Error 0xc06d007e"
     ]
    }
   ],
   "source": [
    "# find the optimal number of clusters using elbow method\n",
    "\n",
    "WCSS = []\n",
    "for i in range(1,11):\n",
    "    model = KMeans(n_clusters = i,init = 'k-means++',n_init='auto')\n",
    "    model.fit(x)\n",
    "    WCSS.append(model.inertia_)\n",
    "fig = plt.figure(figsize = (7,7))\n",
    "plt.plot(range(1,11),WCSS, linewidth=4, markersize=12,marker='o',color = 'green')\n",
    "plt.xticks(np.arange(11))\n",
    "plt.xlabel(\"Number of clusters\")\n",
    "plt.ylabel(\"WCSS\")\n",
    "plt.show()\n"
   ]
  },
  {
   "cell_type": "code",
   "execution_count": 1,
   "metadata": {},
   "outputs": [
    {
     "ename": "NameError",
     "evalue": "name 'KMeans' is not defined",
     "output_type": "error",
     "traceback": [
      "\u001b[1;31m---------------------------------------------------------------------------\u001b[0m",
      "\u001b[1;31mNameError\u001b[0m                                 Traceback (most recent call last)",
      "Cell \u001b[1;32mIn[1], line 3\u001b[0m\n\u001b[0;32m      1\u001b[0m \u001b[39m# since elbow occured at 5, hence the optimal number of clusters for the mall data is 5 \u001b[39;00m\n\u001b[1;32m----> 3\u001b[0m model \u001b[39m=\u001b[39m KMeans(n_clusters \u001b[39m=\u001b[39m \u001b[39m5\u001b[39m, init \u001b[39m=\u001b[39m \u001b[39m\"\u001b[39m\u001b[39mk-means++\u001b[39m\u001b[39m\"\u001b[39m, max_iter \u001b[39m=\u001b[39m \u001b[39m300\u001b[39m, n_init \u001b[39m=\u001b[39m \u001b[39m10\u001b[39m, random_state \u001b[39m=\u001b[39m \u001b[39m0\u001b[39m)\n\u001b[0;32m      4\u001b[0m y_clusters \u001b[39m=\u001b[39m model\u001b[39m.\u001b[39mfit_predict(data)\n",
      "\u001b[1;31mNameError\u001b[0m: name 'KMeans' is not defined"
     ]
    }
   ],
   "source": [
    "# since elbow occured at 5, hence the optimal number of clusters for the mall data is 5 \n",
    "\n",
    "model = KMeans(n_clusters = 5, init = \"k-means++\", max_iter = 300, n_init = 10, random_state = 0)\n",
    "y_clusters = model.fit_predict(data)"
   ]
  },
  {
   "cell_type": "code",
   "execution_count": 8,
   "metadata": {},
   "outputs": [
    {
     "data": {
      "image/png": "[encoded data removed]",
      "text/plain": [
       "<Figure size 1440x720 with 1 Axes>"
      ]
     },
     "metadata": {
      "needs_background": "light"
     },
     "output_type": "display_data"
    }
   ],
   "source": [
    "plt.figure(figsize = (20,10))\n",
    "plt.scatter(x[y_clusters == 0,0],x[y_clusters == 0,1],s = 50, c = 'green', label = \"High income - Less spending\")\n",
    "plt.scatter(x[y_clusters == 1,0],x[y_clusters == 1,1],s = 50, c = 'blue', label = \"medium income - medium spending\")\n",
    "plt.scatter(x[y_clusters == 2,0],x[y_clusters == 2,1],s = 50, c = 'black', label = \"Hign income - high spending\")\n",
    "plt.scatter(x[y_clusters == 3,0],x[y_clusters == 3,1],s = 50, c = 'red', label = \"Less income - high spending\")\n",
    "plt.scatter(x[y_clusters == 4,0],x[y_clusters == 4,1],s = 50, c = 'pink', label = \"Less income and less spending\")\n",
    "plt.scatter(model.cluster_centers_[:,0],model.cluster_centers_[:,1], s = 100, c = \"yellow\", label = \"centroids\")\n",
    "plt.xlabel(\"Anual income(k$) -- >\")\n",
    "plt.ylabel(\"spending score out of 100 -- >\")\n",
    "plt.legend()\n",
    "plt.show()"
   ]
  },
  {
   "cell_type": "markdown",
   "metadata": {},
   "source": [
    "**Now I'm going to include 3 independant variables such as age, anual income and the spending score in segmentation algorithm.**"
   ]
  },
  {
   "cell_type": "code",
   "execution_count": 9,
   "metadata": {},
   "outputs": [],
   "source": [
    "# input matrix for segmentation\n",
    "x = df[['Age','Annual Income (k$)','Spending Score (1-100)']].values"
   ]
  },
  {
   "cell_type": "code",
   "execution_count": 10,
   "metadata": {},
   "outputs": [
    {
     "data": {
      "image/png": "[encoded data removed]",
      "text/plain": [
       "<Figure size 504x504 with 1 Axes>"
      ]
     },
     "metadata": {
      "needs_background": "light"
     },
     "output_type": "display_data"
    }
   ],
   "source": [
    "# find the optimal number of clusters using elbow method  -- >This is for 3 features = [age,anual income,spending score]\n",
    "\n",
    "WCSS = []\n",
    "for i in range(1,11):\n",
    "    model = KMeans(n_clusters = i,init = 'k-means++')\n",
    "    model.fit(x)\n",
    "    WCSS.append(model.inertia_)\n",
    "fig = plt.figure(figsize = (7,7))\n",
    "plt.plot(range(1,11),WCSS, linewidth=4, markersize=12,marker='o',color = 'red')\n",
    "plt.xticks(np.arange(11))\n",
    "plt.xlabel(\"Number of clusters\")\n",
    "plt.ylabel(\"WCSS\")\n",
    "plt.show()"
   ]
  },
  {
   "cell_type": "markdown",
   "metadata": {},
   "source": [
    "From the above elbow method, we can see that the optimal number of clusters == 5\n"
   ]
  },
  {
   "cell_type": "code",
   "execution_count": 11,
   "metadata": {},
   "outputs": [],
   "source": [
    "# finding the clusters based on input matrix \"x\"\n",
    "model = KMeans(n_clusters = 5, init = \"k-means++\", max_iter = 300, n_init = 10, random_state = 0)\n",
    "y_clusters = model.fit_predict(x)"
   ]
  },
  {
   "cell_type": "code",
   "execution_count": 12,
   "metadata": {},
   "outputs": [
    {
     "data": {
      "text/plain": [
       "<matplotlib.axes._subplots.AxesSubplot at 0x7fdbf9268860>"
      ]
     },
     "execution_count": 12,
     "metadata": {},
     "output_type": "execute_result"
    },
    {
     "data": {
      "image/png": "[encoded data removed]",
      "text/plain": [
       "<Figure size 432x288 with 1 Axes>"
      ]
     },
     "metadata": {
      "needs_background": "light"
     },
     "output_type": "display_data"
    }
   ],
   "source": [
    "# countplot to check the number of clusters and number of customers in each cluster\n",
    "sns.countplot(y_clusters)"
   ]
  },
  {
   "cell_type": "markdown",
   "metadata": {},
   "source": [
    "From the above countplot we can see that there are more number of customers in the cluster 2(green color).\n",
    "same colors are used to plot the clusters(In 3d scatter plot below)."
   ]
  },
  {
   "cell_type": "code",
   "execution_count": 13,
   "metadata": {},
   "outputs": [
    {
     "name": "stdout",
     "output_type": "stream",
     "text": [
      "20\n",
      "16\n",
      "6\n"
     ]
    }
   ],
   "source": [
    "print(x[y_clusters == 0,0][1])\n",
    "print(x[y_clusters == 0,1][1])\n",
    "print(x[y_clusters == 0,2][1])"
   ]
  },
  {
   "cell_type": "code",
   "execution_count": 6,
   "metadata": {},
   "outputs": [
    {
     "ename": "NameError",
     "evalue": "name 'x' is not defined",
     "output_type": "error",
     "traceback": [
      "\u001b[1;31m---------------------------------------------------------------------------\u001b[0m",
      "\u001b[1;31mNameError\u001b[0m                                 Traceback (most recent call last)",
      "Cell \u001b[1;32mIn[6], line 5\u001b[0m\n\u001b[0;32m      3\u001b[0m fig \u001b[39m=\u001b[39m plt\u001b[39m.\u001b[39mfigure(figsize \u001b[39m=\u001b[39m (\u001b[39m15\u001b[39m,\u001b[39m15\u001b[39m))\n\u001b[0;32m      4\u001b[0m ax \u001b[39m=\u001b[39m fig\u001b[39m.\u001b[39madd_subplot(\u001b[39m111\u001b[39m, projection\u001b[39m=\u001b[39m\u001b[39m'\u001b[39m\u001b[39m3d\u001b[39m\u001b[39m'\u001b[39m)\n\u001b[1;32m----> 5\u001b[0m ax\u001b[39m.\u001b[39mscatter(x[y_clusters \u001b[39m==\u001b[39m \u001b[39m0\u001b[39m,\u001b[39m0\u001b[39m],x[y_clusters \u001b[39m==\u001b[39m \u001b[39m0\u001b[39m,\u001b[39m1\u001b[39m],x[y_clusters \u001b[39m==\u001b[39m \u001b[39m0\u001b[39m,\u001b[39m2\u001b[39m], s \u001b[39m=\u001b[39m \u001b[39m40\u001b[39m , color \u001b[39m=\u001b[39m \u001b[39m'\u001b[39m\u001b[39mblue\u001b[39m\u001b[39m'\u001b[39m, label \u001b[39m=\u001b[39m \u001b[39m\"\u001b[39m\u001b[39mcluster 0\u001b[39m\u001b[39m\"\u001b[39m)\n\u001b[0;32m      6\u001b[0m ax\u001b[39m.\u001b[39mscatter(x[y_clusters \u001b[39m==\u001b[39m \u001b[39m1\u001b[39m,\u001b[39m0\u001b[39m],x[y_clusters \u001b[39m==\u001b[39m \u001b[39m1\u001b[39m,\u001b[39m1\u001b[39m],x[y_clusters \u001b[39m==\u001b[39m \u001b[39m1\u001b[39m,\u001b[39m2\u001b[39m], s \u001b[39m=\u001b[39m \u001b[39m40\u001b[39m , color \u001b[39m=\u001b[39m \u001b[39m'\u001b[39m\u001b[39morange\u001b[39m\u001b[39m'\u001b[39m, label \u001b[39m=\u001b[39m \u001b[39m\"\u001b[39m\u001b[39mcluster 1\u001b[39m\u001b[39m\"\u001b[39m)\n\u001b[0;32m      7\u001b[0m ax\u001b[39m.\u001b[39mscatter(x[y_clusters \u001b[39m==\u001b[39m \u001b[39m2\u001b[39m,\u001b[39m0\u001b[39m],x[y_clusters \u001b[39m==\u001b[39m \u001b[39m2\u001b[39m,\u001b[39m1\u001b[39m],x[y_clusters \u001b[39m==\u001b[39m \u001b[39m2\u001b[39m,\u001b[39m2\u001b[39m], s \u001b[39m=\u001b[39m \u001b[39m40\u001b[39m , color \u001b[39m=\u001b[39m \u001b[39m'\u001b[39m\u001b[39mgreen\u001b[39m\u001b[39m'\u001b[39m, label \u001b[39m=\u001b[39m \u001b[39m\"\u001b[39m\u001b[39mcluster 2\u001b[39m\u001b[39m\"\u001b[39m)\n",
      "\u001b[1;31mNameError\u001b[0m: name 'x' is not defined"
     ]
    },
    {
     "ename": "",
     "evalue": "",
     "output_type": "error",
     "traceback": [
      "\u001b[1;31mCanceled future for execute_request message before replies were done"
     ]
    },
    {
     "ename": "",
     "evalue": "",
     "output_type": "error",
     "traceback": [
      "\u001b[1;31mThe Kernel crashed while executing code in the the current cell or a previous cell. Please review the code in the cell(s) to identify a possible cause of the failure. Click <a href='https://aka.ms/vscodeJupyterKernelCrash'>here</a> for more info. View Jupyter <a href='command:jupyter.viewOutput'>log</a> for further details."
     ]
    }
   ],
   "source": [
    "# 3d scatterplot using matplotlib\n",
    "\n",
    "fig = plt.figure(figsize = (15,15))\n",
    "ax = fig.add_subplot(111, projection='3d')\n",
    "ax.scatter(x[y_clusters == 0,0],x[y_clusters == 0,1],x[y_clusters == 0,2], s = 40 , color = 'blue', label = \"cluster 0\")\n",
    "ax.scatter(x[y_clusters == 1,0],x[y_clusters == 1,1],x[y_clusters == 1,2], s = 40 , color = 'orange', label = \"cluster 1\")\n",
    "ax.scatter(x[y_clusters == 2,0],x[y_clusters == 2,1],x[y_clusters == 2,2], s = 40 , color = 'green', label = \"cluster 2\")\n",
    "ax.scatter(x[y_clusters == 3,0],x[y_clusters == 3,1],x[y_clusters == 3,2], s = 40 , color = '#D12B60', label = \"cluster 3\")\n",
    "ax.scatter(x[y_clusters == 4,0],x[y_clusters == 4,1],x[y_clusters == 4,2], s = 40 , color = 'purple', label = \"cluster 4\")\n",
    "ax.set_xlabel('Age of a customer-->')\n",
    "ax.set_ylabel('Anual Income-->')\n",
    "ax.set_zlabel('Spending Score-->')\n",
    "ax.legend()\n",
    "plt.show()\n"
   ]
  },
  {
   "cell_type": "code",
   "execution_count": 15,
   "metadata": {},
   "outputs": [
    {
     "data": {
      "text/html": [
       "        <script type=\"text/javascript\">\n",
       "        window.PlotlyConfig = {MathJaxConfig: 'local'};\n",
       "        if (window.MathJax) {MathJax.Hub.Config({SVG: {font: \"STIX-Web\"}});}\n",
       "        if (typeof require !== 'undefined') {\n",
       "        require.undef(\"plotly\");\n",
       "        requirejs.config({\n",
       "            paths: {\n",
       "                'plotly': ['https://cdn.plot.ly/plotly-latest.min']\n",
       "            }\n",
       "        });\n",
       "        require(['plotly'], function(Plotly) {\n",
       "            window._Plotly = Plotly;\n",
       "        });\n",
       "        }\n",
       "        </script>\n",
       "        "
      ]
     },
     "metadata": {},
     "output_type": "display_data"
    },
    {
     "data": {
      "text/html": [
       "<div>\n",
       "        \n",
       "        \n",
       "            <div id=\"5fe823fe-1a3b-4935-a696-575889e0020b\" class=\"plotly-graph-div\" style=\"height:800px; width:800px;\"></div>\n",
       "            <script type=\"text/javascript\">\n",
       "                require([\"plotly\"], function(Plotly) {\n",
       "                    window.PLOTLYENV=window.PLOTLYENV || {};\n",
       "                    \n",
       "                if (document.getElementById(\"5fe823fe-1a3b-4935-a696-575889e0020b\")) {\n",
       "                    Plotly.newPlot(\n",
       "                        '5fe823fe-1a3b-4935-a696-575889e0020b',\n",
       "                        [{\"marker\": {\"color\": [0, 4, 0, 4, 0, 4, 0, 4, 0, 4, 0, 4, 0, 4, 0, 4, 0, 4, 0, 4, 0, 4, 0, 4, 0, 4, 0, 4, 0, 4, 0, 4, 0, 4, 0, 4, 0, 4, 0, 4, 0, 4, 0, 4, 0, 4, 2, 2, 2, 2, 2, 2, 2, 2, 2, 2, 2, 2, 2, 2, 2, 2, 2, 2, 2, 2, 2, 2, 2, 2, 2, 2, 2, 2, 2, 2, 2, 2, 2, 2, 2, 2, 2, 2, 2, 2, 2, 2, 2, 2, 2, 2, 2, 2, 2, 2, 2, 2, 2, 2, 2, 2, 2, 2, 2, 2, 2, 2, 2, 2, 2, 2, 2, 2, 2, 2, 2, 2, 2, 2, 2, 2, 2, 1, 3, 1, 2, 1, 3, 1, 3, 1, 3, 1, 3, 1, 3, 1, 3, 1, 3, 1, 2, 1, 3, 1, 3, 1, 3, 1, 3, 1, 3, 1, 3, 1, 3, 1, 3, 1, 3, 1, 3, 1, 3, 1, 3, 1, 3, 1, 3, 1, 3, 1, 3, 1, 3, 1, 3, 1, 3, 1, 3, 1, 3, 1, 3, 1, 3, 1, 3, 1, 3, 1, 3, 1, 3, 1, 3, 1], \"line\": {\"color\": \"black\", \"width\": 10}, \"size\": 10}, \"mode\": \"markers\", \"type\": \"scatter3d\", \"x\": [19, 21, 20, 23, 31, 22, 35, 23, 64, 30, 67, 35, 58, 24, 37, 22, 35, 20, 52, 35, 35, 25, 46, 31, 54, 29, 45, 35, 40, 23, 60, 21, 53, 18, 49, 21, 42, 30, 36, 20, 65, 24, 48, 31, 49, 24, 50, 27, 29, 31, 49, 33, 31, 59, 50, 47, 51, 69, 27, 53, 70, 19, 67, 54, 63, 18, 43, 68, 19, 32, 70, 47, 60, 60, 59, 26, 45, 40, 23, 49, 57, 38, 67, 46, 21, 48, 55, 22, 34, 50, 68, 18, 48, 40, 32, 24, 47, 27, 48, 20, 23, 49, 67, 26, 49, 21, 66, 54, 68, 66, 65, 19, 38, 19, 18, 19, 63, 49, 51, 50, 27, 38, 40, 39, 23, 31, 43, 40, 59, 38, 47, 39, 25, 31, 20, 29, 44, 32, 19, 35, 57, 32, 28, 32, 25, 28, 48, 32, 34, 34, 43, 39, 44, 38, 47, 27, 37, 30, 34, 30, 56, 29, 19, 31, 50, 36, 42, 33, 36, 32, 40, 28, 36, 36, 52, 30, 58, 27, 59, 35, 37, 32, 46, 29, 41, 30, 54, 28, 41, 36, 34, 32, 33, 38, 47, 35, 45, 32, 32, 30], \"y\": [15, 15, 16, 16, 17, 17, 18, 18, 19, 19, 19, 19, 20, 20, 20, 20, 21, 21, 23, 23, 24, 24, 25, 25, 28, 28, 28, 28, 29, 29, 30, 30, 33, 33, 33, 33, 34, 34, 37, 37, 38, 38, 39, 39, 39, 39, 40, 40, 40, 40, 42, 42, 43, 43, 43, 43, 44, 44, 46, 46, 46, 46, 47, 47, 48, 48, 48, 48, 48, 48, 49, 49, 50, 50, 54, 54, 54, 54, 54, 54, 54, 54, 54, 54, 54, 54, 57, 57, 58, 58, 59, 59, 60, 60, 60, 60, 60, 60, 61, 61, 62, 62, 62, 62, 62, 62, 63, 63, 63, 63, 63, 63, 64, 64, 65, 65, 65, 65, 67, 67, 67, 67, 69, 69, 70, 70, 71, 71, 71, 71, 71, 71, 72, 72, 73, 73, 73, 73, 74, 74, 75, 75, 76, 76, 77, 77, 77, 77, 78, 78, 78, 78, 78, 78, 78, 78, 78, 78, 78, 78, 79, 79, 81, 81, 85, 85, 86, 86, 87, 87, 87, 87, 87, 87, 88, 88, 88, 88, 93, 93, 97, 97, 98, 98, 99, 99, 101, 101, 103, 103, 103, 103, 113, 113, 120, 120, 126, 126, 137, 137], \"z\": [39, 81, 6, 77, 40, 76, 6, 94, 3, 72, 14, 99, 15, 77, 13, 79, 35, 66, 29, 98, 35, 73, 5, 73, 14, 82, 32, 61, 31, 87, 4, 73, 4, 92, 14, 81, 17, 73, 26, 75, 35, 92, 36, 61, 28, 65, 55, 47, 42, 42, 52, 60, 54, 60, 45, 41, 50, 46, 51, 46, 56, 55, 52, 59, 51, 59, 50, 48, 59, 47, 55, 42, 49, 56, 47, 54, 53, 48, 52, 42, 51, 55, 41, 44, 57, 46, 58, 55, 60, 46, 55, 41, 49, 40, 42, 52, 47, 50, 42, 49, 41, 48, 59, 55, 56, 42, 50, 46, 43, 48, 52, 54, 42, 46, 48, 50, 43, 59, 43, 57, 56, 40, 58, 91, 29, 77, 35, 95, 11, 75, 9, 75, 34, 71, 5, 88, 7, 73, 10, 72, 5, 93, 40, 87, 12, 97, 36, 74, 22, 90, 17, 88, 20, 76, 16, 89, 1, 78, 1, 73, 35, 83, 5, 93, 26, 75, 20, 95, 27, 63, 13, 75, 10, 92, 13, 86, 15, 69, 14, 90, 32, 86, 15, 88, 39, 97, 24, 68, 17, 85, 23, 69, 8, 91, 16, 79, 28, 74, 18, 83]}],\n",
       "                        {\"height\": 800, \"margin\": {\"l\": 0, \"r\": 0}, \"scene\": {\"xaxis\": {\"title\": {\"text\": \"Age -->\"}}, \"yaxis\": {\"title\": {\"text\": \"Spending Score--->\"}}, \"zaxis\": {\"title\": {\"text\": \"Annual Income-->\"}}}, \"template\": {\"data\": {\"bar\": [{\"error_x\": {\"color\": \"#2a3f5f\"}, \"error_y\": {\"color\": \"#2a3f5f\"}, \"marker\": {\"line\": {\"color\": \"#E5ECF6\", \"width\": 0.5}}, \"type\": \"bar\"}], \"barpolar\": [{\"marker\": {\"line\": {\"color\": \"#E5ECF6\", \"width\": 0.5}}, \"type\": \"barpolar\"}], \"carpet\": [{\"aaxis\": {\"endlinecolor\": \"#2a3f5f\", \"gridcolor\": \"white\", \"linecolor\": \"white\", \"minorgridcolor\": \"white\", \"startlinecolor\": \"#2a3f5f\"}, \"baxis\": {\"endlinecolor\": \"#2a3f5f\", \"gridcolor\": \"white\", \"linecolor\": \"white\", \"minorgridcolor\": \"white\", \"startlinecolor\": \"#2a3f5f\"}, \"type\": \"carpet\"}], \"choropleth\": [{\"colorbar\": {\"outlinewidth\": 0, \"ticks\": \"\"}, \"type\": \"choropleth\"}], \"contour\": [{\"colorbar\": {\"outlinewidth\": 0, \"ticks\": \"\"}, \"colorscale\": [[0.0, \"#0d0887\"], [0.1111111111111111, \"#46039f\"], [0.2222222222222222, \"#7201a8\"], [0.3333333333333333, \"#9c179e\"], [0.4444444444444444, \"#bd3786\"], [0.5555555555555556, \"#d8576b\"], [0.6666666666666666, \"#ed7953\"], [0.7777777777777778, \"#fb9f3a\"], [0.8888888888888888, \"#fdca26\"], [1.0, \"#f0f921\"]], \"type\": \"contour\"}], \"contourcarpet\": [{\"colorbar\": {\"outlinewidth\": 0, \"ticks\": \"\"}, \"type\": \"contourcarpet\"}], \"heatmap\": [{\"colorbar\": {\"outlinewidth\": 0, \"ticks\": \"\"}, \"colorscale\": [[0.0, \"#0d0887\"], [0.1111111111111111, \"#46039f\"], [0.2222222222222222, \"#7201a8\"], [0.3333333333333333, \"#9c179e\"], [0.4444444444444444, \"#bd3786\"], [0.5555555555555556, \"#d8576b\"], [0.6666666666666666, \"#ed7953\"], [0.7777777777777778, \"#fb9f3a\"], [0.8888888888888888, \"#fdca26\"], [1.0, \"#f0f921\"]], \"type\": \"heatmap\"}], \"heatmapgl\": [{\"colorbar\": {\"outlinewidth\": 0, \"ticks\": \"\"}, \"colorscale\": [[0.0, \"#0d0887\"], [0.1111111111111111, \"#46039f\"], [0.2222222222222222, \"#7201a8\"], [0.3333333333333333, \"#9c179e\"], [0.4444444444444444, \"#bd3786\"], [0.5555555555555556, \"#d8576b\"], [0.6666666666666666, \"#ed7953\"], [0.7777777777777778, \"#fb9f3a\"], [0.8888888888888888, \"#fdca26\"], [1.0, \"#f0f921\"]], \"type\": \"heatmapgl\"}], \"histogram\": [{\"marker\": {\"colorbar\": {\"outlinewidth\": 0, \"ticks\": \"\"}}, \"type\": \"histogram\"}], \"histogram2d\": [{\"colorbar\": {\"outlinewidth\": 0, \"ticks\": \"\"}, \"colorscale\": [[0.0, \"#0d0887\"], [0.1111111111111111, \"#46039f\"], [0.2222222222222222, \"#7201a8\"], [0.3333333333333333, \"#9c179e\"], [0.4444444444444444, \"#bd3786\"], [0.5555555555555556, \"#d8576b\"], [0.6666666666666666, \"#ed7953\"], [0.7777777777777778, \"#fb9f3a\"], [0.8888888888888888, \"#fdca26\"], [1.0, \"#f0f921\"]], \"type\": \"histogram2d\"}], \"histogram2dcontour\": [{\"colorbar\": {\"outlinewidth\": 0, \"ticks\": \"\"}, \"colorscale\": [[0.0, \"#0d0887\"], [0.1111111111111111, \"#46039f\"], [0.2222222222222222, \"#7201a8\"], [0.3333333333333333, \"#9c179e\"], [0.4444444444444444, \"#bd3786\"], [0.5555555555555556, \"#d8576b\"], [0.6666666666666666, \"#ed7953\"], [0.7777777777777778, \"#fb9f3a\"], [0.8888888888888888, \"#fdca26\"], [1.0, \"#f0f921\"]], \"type\": \"histogram2dcontour\"}], \"mesh3d\": [{\"colorbar\": {\"outlinewidth\": 0, \"ticks\": \"\"}, \"type\": \"mesh3d\"}], \"parcoords\": [{\"line\": {\"colorbar\": {\"outlinewidth\": 0, \"ticks\": \"\"}}, \"type\": \"parcoords\"}], \"scatter\": [{\"marker\": {\"colorbar\": {\"outlinewidth\": 0, \"ticks\": \"\"}}, \"type\": \"scatter\"}], \"scatter3d\": [{\"line\": {\"colorbar\": {\"outlinewidth\": 0, \"ticks\": \"\"}}, \"marker\": {\"colorbar\": {\"outlinewidth\": 0, \"ticks\": \"\"}}, \"type\": \"scatter3d\"}], \"scattercarpet\": [{\"marker\": {\"colorbar\": {\"outlinewidth\": 0, \"ticks\": \"\"}}, \"type\": \"scattercarpet\"}], \"scattergeo\": [{\"marker\": {\"colorbar\": {\"outlinewidth\": 0, \"ticks\": \"\"}}, \"type\": \"scattergeo\"}], \"scattergl\": [{\"marker\": {\"colorbar\": {\"outlinewidth\": 0, \"ticks\": \"\"}}, \"type\": \"scattergl\"}], \"scattermapbox\": [{\"marker\": {\"colorbar\": {\"outlinewidth\": 0, \"ticks\": \"\"}}, \"type\": \"scattermapbox\"}], \"scatterpolar\": [{\"marker\": {\"colorbar\": {\"outlinewidth\": 0, \"ticks\": \"\"}}, \"type\": \"scatterpolar\"}], \"scatterpolargl\": [{\"marker\": {\"colorbar\": {\"outlinewidth\": 0, \"ticks\": \"\"}}, \"type\": \"scatterpolargl\"}], \"scatterternary\": [{\"marker\": {\"colorbar\": {\"outlinewidth\": 0, \"ticks\": \"\"}}, \"type\": \"scatterternary\"}], \"surface\": [{\"colorbar\": {\"outlinewidth\": 0, \"ticks\": \"\"}, \"colorscale\": [[0.0, \"#0d0887\"], [0.1111111111111111, \"#46039f\"], [0.2222222222222222, \"#7201a8\"], [0.3333333333333333, \"#9c179e\"], [0.4444444444444444, \"#bd3786\"], [0.5555555555555556, \"#d8576b\"], [0.6666666666666666, \"#ed7953\"], [0.7777777777777778, \"#fb9f3a\"], [0.8888888888888888, \"#fdca26\"], [1.0, \"#f0f921\"]], \"type\": \"surface\"}], \"table\": [{\"cells\": {\"fill\": {\"color\": \"#EBF0F8\"}, \"line\": {\"color\": \"white\"}}, \"header\": {\"fill\": {\"color\": \"#C8D4E3\"}, \"line\": {\"color\": \"white\"}}, \"type\": \"table\"}]}, \"layout\": {\"annotationdefaults\": {\"arrowcolor\": \"#2a3f5f\", \"arrowhead\": 0, \"arrowwidth\": 1}, \"colorscale\": {\"diverging\": [[0, \"#8e0152\"], [0.1, \"#c51b7d\"], [0.2, \"#de77ae\"], [0.3, \"#f1b6da\"], [0.4, \"#fde0ef\"], [0.5, \"#f7f7f7\"], [0.6, \"#e6f5d0\"], [0.7, \"#b8e186\"], [0.8, \"#7fbc41\"], [0.9, \"#4d9221\"], [1, \"#276419\"]], \"sequential\": [[0.0, \"#0d0887\"], [0.1111111111111111, \"#46039f\"], [0.2222222222222222, \"#7201a8\"], [0.3333333333333333, \"#9c179e\"], [0.4444444444444444, \"#bd3786\"], [0.5555555555555556, \"#d8576b\"], [0.6666666666666666, \"#ed7953\"], [0.7777777777777778, \"#fb9f3a\"], [0.8888888888888888, \"#fdca26\"], [1.0, \"#f0f921\"]], \"sequentialminus\": [[0.0, \"#0d0887\"], [0.1111111111111111, \"#46039f\"], [0.2222222222222222, \"#7201a8\"], [0.3333333333333333, \"#9c179e\"], [0.4444444444444444, \"#bd3786\"], [0.5555555555555556, \"#d8576b\"], [0.6666666666666666, \"#ed7953\"], [0.7777777777777778, \"#fb9f3a\"], [0.8888888888888888, \"#fdca26\"], [1.0, \"#f0f921\"]]}, \"colorway\": [\"#636efa\", \"#EF553B\", \"#00cc96\", \"#ab63fa\", \"#FFA15A\", \"#19d3f3\", \"#FF6692\", \"#B6E880\", \"#FF97FF\", \"#FECB52\"], \"font\": {\"color\": \"#2a3f5f\"}, \"geo\": {\"bgcolor\": \"white\", \"lakecolor\": \"white\", \"landcolor\": \"#E5ECF6\", \"showlakes\": true, \"showland\": true, \"subunitcolor\": \"white\"}, \"hoverlabel\": {\"align\": \"left\"}, \"hovermode\": \"closest\", \"mapbox\": {\"style\": \"light\"}, \"paper_bgcolor\": \"white\", \"plot_bgcolor\": \"#E5ECF6\", \"polar\": {\"angularaxis\": {\"gridcolor\": \"white\", \"linecolor\": \"white\", \"ticks\": \"\"}, \"bgcolor\": \"#E5ECF6\", \"radialaxis\": {\"gridcolor\": \"white\", \"linecolor\": \"white\", \"ticks\": \"\"}}, \"scene\": {\"xaxis\": {\"backgroundcolor\": \"#E5ECF6\", \"gridcolor\": \"white\", \"gridwidth\": 2, \"linecolor\": \"white\", \"showbackground\": true, \"ticks\": \"\", \"zerolinecolor\": \"white\"}, \"yaxis\": {\"backgroundcolor\": \"#E5ECF6\", \"gridcolor\": \"white\", \"gridwidth\": 2, \"linecolor\": \"white\", \"showbackground\": true, \"ticks\": \"\", \"zerolinecolor\": \"white\"}, \"zaxis\": {\"backgroundcolor\": \"#E5ECF6\", \"gridcolor\": \"white\", \"gridwidth\": 2, \"linecolor\": \"white\", \"showbackground\": true, \"ticks\": \"\", \"zerolinecolor\": \"white\"}}, \"shapedefaults\": {\"line\": {\"color\": \"#2a3f5f\"}}, \"ternary\": {\"aaxis\": {\"gridcolor\": \"white\", \"linecolor\": \"white\", \"ticks\": \"\"}, \"baxis\": {\"gridcolor\": \"white\", \"linecolor\": \"white\", \"ticks\": \"\"}, \"bgcolor\": \"#E5ECF6\", \"caxis\": {\"gridcolor\": \"white\", \"linecolor\": \"white\", \"ticks\": \"\"}}, \"title\": {\"x\": 0.05}, \"xaxis\": {\"automargin\": true, \"gridcolor\": \"white\", \"linecolor\": \"white\", \"ticks\": \"\", \"zerolinecolor\": \"white\", \"zerolinewidth\": 2}, \"yaxis\": {\"automargin\": true, \"gridcolor\": \"white\", \"linecolor\": \"white\", \"ticks\": \"\", \"zerolinecolor\": \"white\", \"zerolinewidth\": 2}}}, \"width\": 800},\n",
       "                        {\"responsive\": true}\n",
       "                    ).then(function(){\n",
       "                            \n",
       "var gd = document.getElementById('5fe823fe-1a3b-4935-a696-575889e0020b');\n",
       "var x = new MutationObserver(function (mutations, observer) {{\n",
       "        var display = window.getComputedStyle(gd).display;\n",
       "        if (!display || display === 'none') {{\n",
       "            console.log([gd, 'removed!']);\n",
       "            Plotly.purge(gd);\n",
       "            observer.disconnect();\n",
       "        }}\n",
       "}});\n",
       "\n",
       "// Listen for the removal of the full notebook cells\n",
       "var notebookContainer = gd.closest('#notebook-container');\n",
       "if (notebookContainer) {{\n",
       "    x.observe(notebookContainer, {childList: true});\n",
       "}}\n",
       "\n",
       "// Listen for the clearing of the current output cell\n",
       "var outputEl = gd.closest('.output');\n",
       "if (outputEl) {{\n",
       "    x.observe(outputEl, {childList: true});\n",
       "}}\n",
       "\n",
       "                        })\n",
       "                };\n",
       "                });\n",
       "            </script>\n",
       "        </div>"
      ]
     },
     "metadata": {},
     "output_type": "display_data"
    }
   ],
   "source": [
    "# 3d scatterplot using plotly\n",
    "Scene = dict(xaxis = dict(title  = 'Age -->'),yaxis = dict(title  = 'Spending Score--->'),zaxis = dict(title  = 'Annual Income-->'))\n",
    "\n",
    "# model.labels_ is nothing but the predicted clusters i.e y_clusters\n",
    "labels = model.labels_\n",
    "trace = go.Scatter3d(x=x[:, 0], y=x[:, 1], z=x[:, 2], mode='markers',marker=dict(color = labels, size= 10, line=dict(color= 'black',width = 10)))\n",
    "layout = go.Layout(margin=dict(l=0,r=0),scene = Scene,height = 800,width = 800)\n",
    "data = [trace]\n",
    "fig = go.Figure(data = data, layout = layout)\n",
    "fig.show()"
   ]
  },
  {
   "cell_type": "markdown",
   "metadata": {},
   "source": [
    "** Work in progress....**\n",
    "\n",
    "Please upvote if you like this."
   ]
  }
 ],
 "metadata": {
  "kernelspec": {
   "display_name": "Python 3.11.5 ('base')",
   "language": "python",
   "name": "python3"
  },
  "language_info": {
   "codemirror_mode": {
    "name": "ipython",
    "version": 3
   },
   "file_extension": ".py",
   "mimetype": "text/x-python",
   "name": "python",
   "nbconvert_exporter": "python",
   "pygments_lexer": "ipython3",
   "version": "3.11.5"
  },
  "vscode": {
   "interpreter": {
    "hash": "a4df7a6600e22bae99e6e8f837be5af686fd7a404512ca9c2620376f38fe7d31"
   }
  }
 },
 "nbformat": 4,
 "nbformat_minor": 1
}
